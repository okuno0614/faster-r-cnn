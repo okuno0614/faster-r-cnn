{
 "cells": [
  {
   "cell_type": "markdown",
   "metadata": {},
   "source": [
    "# 航空衛星画像の可視化デモ\n",
    "このノートブックでは、航空衛星画像の可視化と分析のための様々な機能を紹介します。"
   ]
  },
  {
   "cell_type": "code",
   "execution_count": null,
   "metadata": {},
   "outputs": [],
   "source": [
    "import sys\n",
    "sys.path.append('..')\n",
    "import os\n",
    "import numpy as np\n",
    "import torch\n",
    "from PIL import Image\n",
    "import json\n",
    "from src.visualization import plot_image,plot_bbox,plot_batch,create_augmentation_pipeline,plot_class_distribution,plot_bbox_size_distribution,plot_confusion_matrix\n",
    "from src.dataset import VacantLandDataset"
   ]
  },
  {
   "cell_type": "markdown",
   "metadata": {},
   "source": [
    "## 1. データセットの準備"
   ]
  },
  {
   "cell_type": "code",
   "execution_count": null,
   "metadata": {},
   "outputs": [],
   "source": [
    "# パスの設定\n",
    "base_dir = os.path.abspath(os.path.join(os.path.dirname('__file__'), '..'))\n",
    "images_dir = os.path.join(base_dir, 'data', 'images')\n",
    "train_ann_file = os.path.join(base_dir, 'data', 'annotations', 'train.json')\n",
    "\n",
    "# データセットの読み込み\n",
    "dataset = VacantLandDataset(\n",
    "root_dir=images_dir,\n",
    "annotation_file=train_ann_file,\n",
    "transform=None\n",
    ")"
   ]
  },
  {
   "cell_type": "markdown",
   "metadata": {},
   "source": [
    "## 2. 画像の表示"
   ]
  },
  {
   "cell_type": "code",
   "execution_count": null,
   "metadata": {},
   "outputs": [],
   "source": [
    "# サンプル画像の表示\n",
    "image, target = dataset[0]\n",
    "plot_image(image, title='Sample Image')"
   ]
  },
  {
   "cell_type": "markdown",
   "metadata": {},
   "source": [
    "## 3. バウンディングボックスの可視化"
   ]
  },
  {
   "cell_type": "code",
   "execution_count": null,
   "metadata": {},
   "outputs": [],
   "source": [
    "# バウンディングボックスの表示\n",
    "plot_bbox(\n",
    "image,\n",
    "target['boxes'].numpy(),\n",
    "target['labels'].numpy(),\n",
    "class_names=['background', 'vacant_land']\n",
    ")"
   ]
  },
  {
   "cell_type": "markdown",
   "metadata": {},
   "source": [
    "## 4. データ拡張の可視化"
   ]
  },
  {
   "cell_type": "code",
   "execution_count": null,
   "metadata": {},
   "outputs": [],
   "source": [
    "# データ拡張パイプラインの作成\n",
    "aug_pipeline = create_augmentation_pipeline()\n",
    "\n",
    "# 拡張画像の表示\n",
    "augmented = aug_pipeline(image=image)\n",
    "plot_batch([image, augmented['image']], titles=['Original', 'Augmented'])"
   ]
  },
  {
   "cell_type": "markdown",
   "metadata": {},
   "source": [
    "## 5. クラス分布の可視化"
   ]
  },
  {
   "cell_type": "code",
   "execution_count": null,
   "metadata": {},
   "outputs": [],
   "source": [
    "# 全データセットのラベルを収集\n",
    "all_labels = []\n",
    "for _, target in dataset:\n",
    "    all_labels.extend(target['labels'].numpy())\n",
    "\n",
    "# クラス分布の表示\n",
    "plot_class_distribution(all_labels, class_names=['background', 'vacant_land'])"
   ]
  },
  {
   "cell_type": "markdown",
   "metadata": {},
   "source": [
    "## 6. バウンディングボックスのサイズ分布"
   ]
  },
  {
   "cell_type": "code",
   "execution_count": null,
   "metadata": {},
   "outputs": [],
   "source": [
    "# 全データセットのバウンディングボックスを収集\\n\",\n",
    "all_boxes = []\n",
    "for _, target in dataset:\n",
    "    all_boxes.extend(target['boxes'].numpy())\n",
    "all_boxes = np.array(all_boxes)\n",
    "\n",
    "# サイズ分布の表示\\n\",\n",
    "plot_bbox_size_distribution(all_boxes)"
   ]
  },
  {
   "cell_type": "markdown",
   "metadata": {},
   "source": [
    "## 7. バッチ表示"
   ]
  },
  {
   "cell_type": "code",
   "execution_count": null,
   "metadata": {},
   "outputs": [],
   "source": [
    "# バッチの画像を表示\n",
    "batch_images = []\n",
    "for i in range(4):\n",
    "    image, _ = dataset[i]\n",
    "    batch_images.append(image)\n",
    "plot_batch(batch_images, titles=[f'Image {i+1}' for i in range(4)])"
   ]
  },
  {
   "cell_type": "markdown",
   "metadata": {},
   "source": []
  }
 ],
 "metadata": {
  "kernelspec": {
   "display_name": "sorafune_faster-r-cnn",
   "language": "python",
   "name": "python3"
  },
  "language_info": {
   "name": "python",
   "version": "3.13.3"
  }
 },
 "nbformat": 4,
 "nbformat_minor": 2
}
